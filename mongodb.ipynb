{
 "cells": [
  {
   "cell_type": "code",
   "execution_count": 1,
   "metadata": {},
   "outputs": [
    {
     "name": "stdout",
     "output_type": "stream",
     "text": [
      "Requirement already satisfied: pymongo in d:\\onedrive\\desktop\\github clone repo\\livesensor\\vevn\\lib\\site-packages (4.2.0)Note: you may need to restart the kernel to use updated packages.\n",
      "\n"
     ]
    }
   ],
   "source": [
    "pip install pymongo"
   ]
  },
  {
   "cell_type": "code",
   "execution_count": 3,
   "metadata": {},
   "outputs": [],
   "source": [
    "import pymongo \n",
    "from pymongo import MongoClient"
   ]
  },
  {
   "cell_type": "code",
   "execution_count": 14,
   "metadata": {},
   "outputs": [],
   "source": [
    "connection_string =\"mongodb+srv://sksuvit2003:<db_passwordSksuvit@03@thapar123>@cluster0.aq13d.mongodb.net/?retryWrites=true&w=majority&appName=Cluster0\""
   ]
  },
  {
   "cell_type": "code",
   "execution_count": 15,
   "metadata": {},
   "outputs": [
    {
     "name": "stdout",
     "output_type": "stream",
     "text": [
      "Requirement already satisfied: pymongo[srv] in d:\\onedrive\\desktop\\github clone repo\\livesensor\\vevn\\lib\\site-packages (4.2.0)\n",
      "Requirement already satisfied: dnspython<3.0.0,>=1.16.0 in d:\\onedrive\\desktop\\github clone repo\\livesensor\\vevn\\lib\\site-packages (from pymongo[srv]) (2.6.1)\n",
      "Note: you may need to restart the kernel to use updated packages.\n"
     ]
    }
   ],
   "source": [
    "pip install pymongo[srv]\n"
   ]
  },
  {
   "cell_type": "code",
   "execution_count": 16,
   "metadata": {},
   "outputs": [
    {
     "ename": "ConfigurationError",
     "evalue": "The \"dnspython\" module must be installed to use mongodb+srv:// URIs. To fix this error install pymongo with the srv extra:\n d:\\OneDrive\\Desktop\\GITHUB CLONE REPO\\LiveSensor\\vevn\\python.exe -m pip install \"pymongo[srv]\"",
     "output_type": "error",
     "traceback": [
      "\u001b[1;31m---------------------------------------------------------------------------\u001b[0m",
      "\u001b[1;31mConfigurationError\u001b[0m                        Traceback (most recent call last)",
      "Cell \u001b[1;32mIn[16], line 1\u001b[0m\n\u001b[1;32m----> 1\u001b[0m client\u001b[38;5;241m=\u001b[39m\u001b[43mMongoClient\u001b[49m\u001b[43m(\u001b[49m\u001b[43mconnection_string\u001b[49m\u001b[43m)\u001b[49m\n",
      "File \u001b[1;32md:\\OneDrive\\Desktop\\GITHUB CLONE REPO\\LiveSensor\\vevn\\lib\\site-packages\\pymongo\\mongo_client.py:726\u001b[0m, in \u001b[0;36mMongoClient.__init__\u001b[1;34m(self, host, port, document_class, tz_aware, connect, type_registry, **kwargs)\u001b[0m\n\u001b[0;32m    722\u001b[0m \u001b[38;5;28;01mif\u001b[39;00m timeout \u001b[38;5;129;01mis\u001b[39;00m \u001b[38;5;129;01mnot\u001b[39;00m \u001b[38;5;28;01mNone\u001b[39;00m:\n\u001b[0;32m    723\u001b[0m     timeout \u001b[38;5;241m=\u001b[39m common\u001b[38;5;241m.\u001b[39mvalidate_timeout_or_none_or_zero(\n\u001b[0;32m    724\u001b[0m         keyword_opts\u001b[38;5;241m.\u001b[39mcased_key(\u001b[38;5;124m\"\u001b[39m\u001b[38;5;124mconnecttimeoutms\u001b[39m\u001b[38;5;124m\"\u001b[39m), timeout\n\u001b[0;32m    725\u001b[0m     )\n\u001b[1;32m--> 726\u001b[0m res \u001b[38;5;241m=\u001b[39m \u001b[43muri_parser\u001b[49m\u001b[38;5;241;43m.\u001b[39;49m\u001b[43mparse_uri\u001b[49m\u001b[43m(\u001b[49m\n\u001b[0;32m    727\u001b[0m \u001b[43m    \u001b[49m\u001b[43mentity\u001b[49m\u001b[43m,\u001b[49m\n\u001b[0;32m    728\u001b[0m \u001b[43m    \u001b[49m\u001b[43mport\u001b[49m\u001b[43m,\u001b[49m\n\u001b[0;32m    729\u001b[0m \u001b[43m    \u001b[49m\u001b[43mvalidate\u001b[49m\u001b[38;5;241;43m=\u001b[39;49m\u001b[38;5;28;43;01mTrue\u001b[39;49;00m\u001b[43m,\u001b[49m\n\u001b[0;32m    730\u001b[0m \u001b[43m    \u001b[49m\u001b[43mwarn\u001b[49m\u001b[38;5;241;43m=\u001b[39;49m\u001b[38;5;28;43;01mTrue\u001b[39;49;00m\u001b[43m,\u001b[49m\n\u001b[0;32m    731\u001b[0m \u001b[43m    \u001b[49m\u001b[43mnormalize\u001b[49m\u001b[38;5;241;43m=\u001b[39;49m\u001b[38;5;28;43;01mFalse\u001b[39;49;00m\u001b[43m,\u001b[49m\n\u001b[0;32m    732\u001b[0m \u001b[43m    \u001b[49m\u001b[43mconnect_timeout\u001b[49m\u001b[38;5;241;43m=\u001b[39;49m\u001b[43mtimeout\u001b[49m\u001b[43m,\u001b[49m\n\u001b[0;32m    733\u001b[0m \u001b[43m    \u001b[49m\u001b[43msrv_service_name\u001b[49m\u001b[38;5;241;43m=\u001b[39;49m\u001b[43msrv_service_name\u001b[49m\u001b[43m,\u001b[49m\n\u001b[0;32m    734\u001b[0m \u001b[43m    \u001b[49m\u001b[43msrv_max_hosts\u001b[49m\u001b[38;5;241;43m=\u001b[39;49m\u001b[43msrv_max_hosts\u001b[49m\u001b[43m,\u001b[49m\n\u001b[0;32m    735\u001b[0m \u001b[43m\u001b[49m\u001b[43m)\u001b[49m\n\u001b[0;32m    736\u001b[0m seeds\u001b[38;5;241m.\u001b[39mupdate(res[\u001b[38;5;124m\"\u001b[39m\u001b[38;5;124mnodelist\u001b[39m\u001b[38;5;124m\"\u001b[39m])\n\u001b[0;32m    737\u001b[0m username \u001b[38;5;241m=\u001b[39m res[\u001b[38;5;124m\"\u001b[39m\u001b[38;5;124musername\u001b[39m\u001b[38;5;124m\"\u001b[39m] \u001b[38;5;129;01mor\u001b[39;00m username\n",
      "File \u001b[1;32md:\\OneDrive\\Desktop\\GITHUB CLONE REPO\\LiveSensor\\vevn\\lib\\site-packages\\pymongo\\uri_parser.py:469\u001b[0m, in \u001b[0;36mparse_uri\u001b[1;34m(uri, default_port, validate, warn, normalize, connect_timeout, srv_service_name, srv_max_hosts)\u001b[0m\n\u001b[0;32m    467\u001b[0m \u001b[38;5;28;01mif\u001b[39;00m \u001b[38;5;129;01mnot\u001b[39;00m _HAVE_DNSPYTHON:\n\u001b[0;32m    468\u001b[0m     python_path \u001b[38;5;241m=\u001b[39m sys\u001b[38;5;241m.\u001b[39mexecutable \u001b[38;5;129;01mor\u001b[39;00m \u001b[38;5;124m\"\u001b[39m\u001b[38;5;124mpython\u001b[39m\u001b[38;5;124m\"\u001b[39m\n\u001b[1;32m--> 469\u001b[0m     \u001b[38;5;28;01mraise\u001b[39;00m ConfigurationError(\n\u001b[0;32m    470\u001b[0m         \u001b[38;5;124m'\u001b[39m\u001b[38;5;124mThe \u001b[39m\u001b[38;5;124m\"\u001b[39m\u001b[38;5;124mdnspython\u001b[39m\u001b[38;5;124m\"\u001b[39m\u001b[38;5;124m module must be \u001b[39m\u001b[38;5;124m'\u001b[39m\n\u001b[0;32m    471\u001b[0m         \u001b[38;5;124m\"\u001b[39m\u001b[38;5;124minstalled to use mongodb+srv:// URIs. \u001b[39m\u001b[38;5;124m\"\u001b[39m\n\u001b[0;32m    472\u001b[0m         \u001b[38;5;124m\"\u001b[39m\u001b[38;5;124mTo fix this error install pymongo with the srv extra:\u001b[39m\u001b[38;5;130;01m\\n\u001b[39;00m\u001b[38;5;124m \u001b[39m\u001b[38;5;124m\"\u001b[39m\n\u001b[0;32m    473\u001b[0m         \u001b[38;5;124m'\u001b[39m\u001b[38;5;132;01m%s\u001b[39;00m\u001b[38;5;124m -m pip install \u001b[39m\u001b[38;5;124m\"\u001b[39m\u001b[38;5;124mpymongo[srv]\u001b[39m\u001b[38;5;124m\"\u001b[39m\u001b[38;5;124m'\u001b[39m \u001b[38;5;241m%\u001b[39m (python_path)\n\u001b[0;32m    474\u001b[0m     )\n\u001b[0;32m    475\u001b[0m is_srv \u001b[38;5;241m=\u001b[39m \u001b[38;5;28;01mTrue\u001b[39;00m\n\u001b[0;32m    476\u001b[0m scheme_free \u001b[38;5;241m=\u001b[39m uri[SRV_SCHEME_LEN:]\n",
      "\u001b[1;31mConfigurationError\u001b[0m: The \"dnspython\" module must be installed to use mongodb+srv:// URIs. To fix this error install pymongo with the srv extra:\n d:\\OneDrive\\Desktop\\GITHUB CLONE REPO\\LiveSensor\\vevn\\python.exe -m pip install \"pymongo[srv]\""
     ]
    }
   ],
   "source": [
    "client=MongoClient(connection_string)"
   ]
  },
  {
   "cell_type": "code",
   "execution_count": 17,
   "metadata": {},
   "outputs": [],
   "source": [
    "database_first=client[\"LiveSensor\"]"
   ]
  },
  {
   "cell_type": "code",
   "execution_count": null,
   "metadata": {},
   "outputs": [],
   "source": [
    "collection=database_first[\"mongoclass\"]"
   ]
  }
 ],
 "metadata": {
  "kernelspec": {
   "display_name": "Python 3",
   "language": "python",
   "name": "python3"
  },
  "language_info": {
   "codemirror_mode": {
    "name": "ipython",
    "version": 3
   },
   "file_extension": ".py",
   "mimetype": "text/x-python",
   "name": "python",
   "nbconvert_exporter": "python",
   "pygments_lexer": "ipython3",
   "version": "3.8.20"
  }
 },
 "nbformat": 4,
 "nbformat_minor": 2
}
